{
 "cells": [
  {
   "cell_type": "code",
   "execution_count": 3,
   "metadata": {},
   "outputs": [],
   "source": [
    "import os\n",
    "import requests\n",
    "from bs4 import BeautifulSoup\n",
    "from googlesearch import search\n",
    "\n",
    "def download_image(url, save_path):\n",
    "    response = requests.get(url, stream=True)\n",
    "    if response.status_code == 200:\n",
    "        with open(save_path, 'wb') as file:\n",
    "            file.write(response.content)\n",
    "            print(f\"Image downloaded: {save_path}\")\n",
    "    else:\n",
    "        print(f\"Failed to download image: {url}\")\n",
    "\n",
    "def scrape_image_urls(query, limit):\n",
    "    urls = []\n",
    "    for url in search(query, num=limit, stop=limit, pause=2):\n",
    "        if 'googleusercontent' in url:\n",
    "            urls.append(url)\n",
    "    return urls\n",
    "\n",
    "# Specify your search query and the number of images you want to download\n",
    "search_query = \"ripe avocados\"\n",
    "image_limit = 100  # You can adjust this number based on your needs\n",
    "\n",
    "# Create a directory to save the images\n",
    "save_directory = \"datasets/ripe_avocado_dataset\"\n",
    "os.makedirs(save_directory, exist_ok=True)\n",
    "\n",
    "# Scrape image URLs\n",
    "image_urls = scrape_image_urls(search_query, image_limit)\n",
    "\n",
    "# Download the images\n",
    "for i, url in enumerate(image_urls):\n",
    "    image_path = os.path.join(save_directory, f\"avocado_{i+1}.jpg\")\n",
    "    download_image(url, image_path)"
   ]
  }
 ],
 "metadata": {
  "kernelspec": {
   "display_name": "Python 3",
   "language": "python",
   "name": "python3"
  },
  "language_info": {
   "codemirror_mode": {
    "name": "ipython",
    "version": 3
   },
   "file_extension": ".py",
   "mimetype": "text/x-python",
   "name": "python",
   "nbconvert_exporter": "python",
   "pygments_lexer": "ipython3",
   "version": "3.11.2"
  },
  "orig_nbformat": 4,
  "vscode": {
   "interpreter": {
    "hash": "9fb39080489b59f68d5d0e4d30bdb75b88b54cbac7cb162347326869fefc7a3e"
   }
  }
 },
 "nbformat": 4,
 "nbformat_minor": 2
}
