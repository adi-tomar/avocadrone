{
 "cells": [
  {
   "cell_type": "code",
   "execution_count": 9,
   "metadata": {},
   "outputs": [
    {
     "name": "stdout",
     "output_type": "stream",
     "text": [
      "Train and test subfolders created successfully!\n"
     ]
    }
   ],
   "source": [
    "import os\n",
    "import random\n",
    "import shutil\n",
    "\n",
    "# Set the path to your image dataset folder\n",
    "dataset_folder = \"datasets/images\"\n",
    "\n",
    "# Create train and test subfolders within the dataset folder\n",
    "train_folder = os.path.join(dataset_folder, \"train\")\n",
    "test_folder = os.path.join(dataset_folder, \"test\")\n",
    "os.makedirs(train_folder, exist_ok=True)\n",
    "os.makedirs(test_folder, exist_ok=True)\n",
    "\n",
    "# Get the list of image files in the dataset folder\n",
    "image_files = [file for file in os.listdir(dataset_folder) if file.lower().endswith(\".jpg\")]\n",
    "\n",
    "# Calculate the split index for 70/30 split\n",
    "split_index = int(0.7 * len(image_files))\n",
    "\n",
    "# Randomize the order of image files\n",
    "random.shuffle(image_files)\n",
    "\n",
    "# Move images to train folder\n",
    "for file in image_files[:split_index]:\n",
    "    src = os.path.join(dataset_folder, file)\n",
    "    dst = os.path.join(train_folder, file)\n",
    "    shutil.move(src, dst)\n",
    "\n",
    "# Move images to test folder\n",
    "for file in image_files[split_index:]:\n",
    "    src = os.path.join(dataset_folder, file)\n",
    "    dst = os.path.join(test_folder, file)\n",
    "    shutil.move(src, dst)\n",
    "\n",
    "print(\"Train and test subfolders created successfully!\")\n"
   ]
  },
  {
   "cell_type": "code",
   "execution_count": null,
   "metadata": {},
   "outputs": [],
   "source": []
  }
 ],
 "metadata": {
  "kernelspec": {
   "display_name": "venv",
   "language": "python",
   "name": "python3"
  },
  "language_info": {
   "codemirror_mode": {
    "name": "ipython",
    "version": 3
   },
   "file_extension": ".py",
   "mimetype": "text/x-python",
   "name": "python",
   "nbconvert_exporter": "python",
   "pygments_lexer": "ipython3",
   "version": "3.9.15"
  },
  "orig_nbformat": 4
 },
 "nbformat": 4,
 "nbformat_minor": 2
}
